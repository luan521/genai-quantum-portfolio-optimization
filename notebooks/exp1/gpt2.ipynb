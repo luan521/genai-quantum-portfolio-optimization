{
 "cells": [
  {
   "cell_type": "code",
   "execution_count": 1,
   "id": "a9031169",
   "metadata": {},
   "outputs": [],
   "source": [
    "import matplotlib.pyplot as plt\n",
    "import numpy as np\n",
    "import pandas as pd\n",
    "from qiskit.visualization import plot_histogram\n",
    "from ai_quantum.quantum.qaoa import QAOA\n",
    "from ai_quantum.initialstates.dicke_initialstate import dicke_statevector\n",
    "from ai_quantum.utils.matrix_compression import compress_matrix\n",
    "from return_cov import f_return_cov\n",
    "import networkx as nx\n",
    "\n",
    "from ai_quantum.ai_models.gpt2 import GPT2_QAOA\n",
    "import torch\n",
    "import torch.optim as optim\n",
    "\n",
    "import warnings\n",
    "warnings.filterwarnings(\"ignore\", category=DeprecationWarning)\n",
    "%matplotlib inline\n",
    "pd.options.mode.chained_assignment = None"
   ]
  },
  {
   "cell_type": "code",
   "execution_count": 2,
   "id": "0b34c90e",
   "metadata": {},
   "outputs": [],
   "source": [
    "expected_value, cov_matrix = f_return_cov()"
   ]
  },
  {
   "cell_type": "markdown",
   "id": "6c32be6c",
   "metadata": {},
   "source": [
    "## Cov Matrix compression"
   ]
  },
  {
   "cell_type": "code",
   "execution_count": 3,
   "id": "56ea0bc6",
   "metadata": {},
   "outputs": [],
   "source": [
    "q_graph = [(2,3), (3, 0), (0, 4), (4, 1), (1, 2)]"
   ]
  },
  {
   "cell_type": "code",
   "execution_count": 4,
   "id": "9bd28b27",
   "metadata": {},
   "outputs": [],
   "source": [
    "G = nx.Graph()\n",
    "G.add_edges_from(q_graph)\n",
    "lam, compress_cov_matrix = compress_matrix(cov_matrix, G)"
   ]
  },
  {
   "cell_type": "code",
   "execution_count": 5,
   "id": "5c90c68f",
   "metadata": {},
   "outputs": [],
   "source": [
    "def f_loss(energies, sum_w):\n",
    "    response = torch.mean((sum_w-energies).pow(2))\n",
    "    return response"
   ]
  },
  {
   "cell_type": "code",
   "execution_count": 6,
   "id": "c97929ec",
   "metadata": {},
   "outputs": [],
   "source": [
    "q = 0.5\n",
    "B  = 2\n",
    "lamb= 0\n",
    "qc_initial_state = dicke_statevector(len(expected_value), B)\n",
    "\n",
    "vocab_size = 10\n",
    "max_depth = 30"
   ]
  },
  {
   "cell_type": "code",
   "execution_count": 7,
   "id": "1d36fdc8",
   "metadata": {},
   "outputs": [],
   "source": [
    "nn_qaoa = GPT2_QAOA(vocab_size, \n",
    "                    max_depth, \n",
    "                    expected_value, \n",
    "                    compress_cov_matrix, \n",
    "                    q, \n",
    "                    B, \n",
    "                    lamb, \n",
    "                    qc=qc_initial_state,\n",
    "                    mixture_layer='ring_mixer', \n",
    "                    q_graph=q_graph,\n",
    "                    n_embd=768, \n",
    "                    n_layer=12, \n",
    "                    n_head=12\n",
    "                    )\n",
    "optimizer = optim.Adam(nn_qaoa.parameters(), lr=1e-4)"
   ]
  },
  {
   "cell_type": "code",
   "execution_count": 8,
   "id": "34741a0a",
   "metadata": {},
   "outputs": [],
   "source": [
    "def epoch_train(\n",
    "                model, \n",
    "                optimizer, \n",
    "                beta_temp, \n",
    "                depth, \n",
    "                full_input_ids=None, \n",
    "                energy_full_input_ids=None,\n",
    "                scale_loss_term_min_energy=None, \n",
    "                precision=1e-3\n",
    "               ):\n",
    "    \n",
    "    sum_w, energies, full_input_ids_min_temp0, gamma, beta = model.forward_qc(beta_temp, depth, precision=precision)\n",
    "    energy_min_temp0 = energies.item()\n",
    "    \n",
    "    sum_w_, energy_, _, gamma, beta = model.forward_qc(-beta_temp, depth, precision=precision)\n",
    "    if energy_.item() < energy_min_temp0:\n",
    "        energy_min_temp0 = energy_.item()\n",
    "        full_input_ids_min_temp0 = _\n",
    "    sum_w = torch.cat((sum_w, sum_w_), dim=0)\n",
    "    energies = torch.cat((energies, energy_), dim=0)\n",
    "    \n",
    "    sum_w_, energy_, _, gamma, beta = model.forward_qc(1, depth, full_input_ids, precision=precision)\n",
    "    if np.inf > energy_full_input_ids:\n",
    "        energy_ = torch.tensor([energy_full_input_ids])\n",
    "    if scale_loss_term_min_energy is not None:\n",
    "        sum_w_ = scale_loss_term_min_energy(sum_w_, energy_)*sum_w_\n",
    "        energy_ = scale_loss_term_min_energy(sum_w_, energy_)*energy_\n",
    "    sum_w = torch.cat((sum_w, sum_w_), dim=0)\n",
    "    energies = torch.cat((energies, energy_), dim=0)\n",
    "    \n",
    "    optimizer.zero_grad()\n",
    "    loss = f_loss(energies, sum_w)\n",
    "    loss.backward()\n",
    "    optimizer.step()\n",
    "    \n",
    "    return loss.item(), energies, sum_w, energy_min_temp0, full_input_ids_min_temp0"
   ]
  },
  {
   "cell_type": "markdown",
   "id": "27b226f4",
   "metadata": {},
   "source": [
    "## Model Training"
   ]
  },
  {
   "cell_type": "code",
   "execution_count": 9,
   "id": "9bf6f7e5",
   "metadata": {},
   "outputs": [],
   "source": [
    "depth = 10\n",
    "beta_temp = 1\n",
    "epochs = 30\n",
    "precision=1e-3"
   ]
  },
  {
   "cell_type": "code",
   "execution_count": 10,
   "id": "534da88e",
   "metadata": {},
   "outputs": [],
   "source": [
    "def scale_loss_term_min_energy(sum_w_, energy_):\n",
    "    return 2\n",
    "    if sum_w_ > energy_:\n",
    "        return 2\n",
    "    else:\n",
    "        return 1"
   ]
  },
  {
   "cell_type": "code",
   "execution_count": 11,
   "id": "02df16c9",
   "metadata": {},
   "outputs": [
    {
     "name": "stdout",
     "output_type": "stream",
     "text": [
      "Epoch 0, Loss: 62.41, energy_min0: -0.00, energy_min: -0.00\n",
      "Epoch 1, Loss: 13357.58, energy_min0: -0.21, energy_min: -0.21\n",
      "Epoch 2, Loss: 12945.72, energy_min0: -0.02, energy_min: -0.21\n",
      "Epoch 3, Loss: 2279.77, energy_min0: 0.07, energy_min: -0.21\n",
      "Epoch 4, Loss: 2880.59, energy_min0: -0.02, energy_min: -0.21\n",
      "Epoch 5, Loss: 1426.80, energy_min0: 0.06, energy_min: -0.21\n",
      "Epoch 6, Loss: 479.65, energy_min0: -0.05, energy_min: -0.21\n",
      "Epoch 7, Loss: 250.50, energy_min0: 0.05, energy_min: -0.21\n",
      "Epoch 8, Loss: 354.34, energy_min0: -0.06, energy_min: -0.21\n",
      "Epoch 9, Loss: 607.76, energy_min0: -0.05, energy_min: -0.21\n",
      "Epoch 10, Loss: 666.46, energy_min0: -0.04, energy_min: -0.21\n",
      "Epoch 11, Loss: 569.83, energy_min0: -0.01, energy_min: -0.21\n",
      "Epoch 12, Loss: 435.69, energy_min0: 0.02, energy_min: -0.21\n",
      "Epoch 13, Loss: 286.99, energy_min0: -0.02, energy_min: -0.21\n",
      "Epoch 14, Loss: 118.34, energy_min0: -0.04, energy_min: -0.21\n",
      "Epoch 15, Loss: 44.11, energy_min0: -0.05, energy_min: -0.21\n",
      "Epoch 16, Loss: 14.25, energy_min0: -0.13, energy_min: -0.21\n",
      "Epoch 17, Loss: 40.29, energy_min0: 0.02, energy_min: -0.21\n",
      "Epoch 18, Loss: 87.68, energy_min0: 0.00, energy_min: -0.21\n",
      "Epoch 19, Loss: 128.19, energy_min0: -0.04, energy_min: -0.21\n",
      "Epoch 20, Loss: 162.02, energy_min0: -0.04, energy_min: -0.21\n",
      "Epoch 21, Loss: 154.79, energy_min0: -0.14, energy_min: -0.21\n",
      "Epoch 22, Loss: 139.35, energy_min0: 0.04, energy_min: -0.21\n",
      "Epoch 23, Loss: 102.62, energy_min0: -0.15, energy_min: -0.21\n",
      "Epoch 24, Loss: 61.65, energy_min0: 0.04, energy_min: -0.21\n",
      "Epoch 25, Loss: 28.40, energy_min0: -0.09, energy_min: -0.21\n",
      "Epoch 26, Loss: 10.19, energy_min0: 0.00, energy_min: -0.21\n",
      "Epoch 27, Loss: 1.70, energy_min0: -0.11, energy_min: -0.21\n",
      "Epoch 28, Loss: 11.58, energy_min0: 0.02, energy_min: -0.21\n",
      "Epoch 29, Loss: 18.46, energy_min0: 0.09, energy_min: -0.21\n"
     ]
    }
   ],
   "source": [
    "energy_min = np.inf\n",
    "full_input_ids_min = None\n",
    "for i in range(epochs):\n",
    "    (\n",
    "     loss_i, \n",
    "     energy, \n",
    "     sum_w, \n",
    "     energy_min0, \n",
    "     full_input_ids_min0\n",
    "    ) = epoch_train(\n",
    "                    nn_qaoa, \n",
    "                    optimizer, \n",
    "                    beta_temp, \n",
    "                    depth, \n",
    "                    full_input_ids_min, \n",
    "                    energy_min, \n",
    "                    scale_loss_term_min_energy, \n",
    "                    precision\n",
    "                   )\n",
    "    \n",
    "    if energy_min0 < energy_min:\n",
    "        energy_min = energy_min0\n",
    "        full_input_ids_min = full_input_ids_min0\n",
    "        \n",
    "    nn_qaoa.eval()\n",
    "    with torch.no_grad():\n",
    "        response = nn_qaoa.forward_qc(1, depth, full_input_ids_min)\n",
    "        \n",
    "    str_print = f\"Epoch {i}, \"\n",
    "    str_print = str_print + f\"Loss: {loss_i:.2f}, \"\n",
    "    str_print = str_print + f\"energy_min0: {energy_min0:.2f}, \"\n",
    "    str_print = str_print + f\"energy_min: {energy_min:.2f}\"\n",
    "    print(str_print)\n"
   ]
  },
  {
   "cell_type": "code",
   "execution_count": 12,
   "id": "5ab862ad",
   "metadata": {},
   "outputs": [
    {
     "data": {
      "text/plain": [
       "(tensor([4.4094], grad_fn=<AddBackward0>), -0.21301662921905518)"
      ]
     },
     "execution_count": 12,
     "metadata": {},
     "output_type": "execute_result"
    }
   ],
   "source": [
    "sum_w_, energy_, _, gamma, beta = nn_qaoa.forward_qc(1, depth, full_input_ids_min, precision=precision)\n",
    "count = nn_qaoa.get_counts_qc(1, depth, full_input_ids_min, shots=1000)\n",
    "\n",
    "\n",
    "sum_w_, energy_min"
   ]
  },
  {
   "cell_type": "code",
   "execution_count": 13,
   "id": "66907cea",
   "metadata": {},
   "outputs": [
    {
     "data": {
      "image/png": "[encoded data removed]",
      "text/plain": [
       "<Figure size 640x480 with 1 Axes>"
      ]
     },
     "metadata": {},
     "output_type": "display_data"
    }
   ],
   "source": [
    "plot_histogram(count, number_to_keep=4)\n",
    "plt.show()"
   ]
  }
 ],
 "metadata": {
  "kernelspec": {
   "display_name": "Python 3 (ipykernel)",
   "language": "python",
   "name": "python3"
  },
  "language_info": {
   "codemirror_mode": {
    "name": "ipython",
    "version": 3
   },
   "file_extension": ".py",
   "mimetype": "text/x-python",
   "name": "python",
   "nbconvert_exporter": "python",
   "pygments_lexer": "ipython3",
   "version": "3.10.18"
  }
 },
 "nbformat": 4,
 "nbformat_minor": 5
}
