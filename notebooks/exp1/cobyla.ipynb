{
 "cells": [
  {
   "cell_type": "code",
   "execution_count": 1,
   "id": "0619a50d",
   "metadata": {},
   "outputs": [],
   "source": [
    "import matplotlib.pyplot as plt\n",
    "import numpy as np\n",
    "import pandas as pd\n",
    "from scipy.optimize import minimize\n",
    "from qiskit.visualization import plot_histogram\n",
    "from qiskit import QuantumCircuit\n",
    "from ai_quantum.quantum.qaoa import QAOA\n",
    "from ai_quantum.initialstates.dicke_initialstate import dicke_statevector\n",
    "from ai_quantum.utils.matrix_compression import compress_matrix\n",
    "from return_cov import f_return_cov\n",
    "import networkx as nx\n",
    "\n",
    "%matplotlib inline\n",
    "pd.options.mode.chained_assignment = None"
   ]
  },
  {
   "cell_type": "code",
   "execution_count": 2,
   "id": "af3d07ea",
   "metadata": {},
   "outputs": [],
   "source": [
    "expected_value, cov_matrix = f_return_cov()"
   ]
  },
  {
   "cell_type": "markdown",
   "id": "99dc3466",
   "metadata": {},
   "source": [
    "## Cov Matrix compression"
   ]
  },
  {
   "cell_type": "code",
   "execution_count": 3,
   "id": "c763cc65",
   "metadata": {},
   "outputs": [],
   "source": [
    "edges = [(2,3), (3, 0), (0, 4), (4, 1), (1, 2)]"
   ]
  },
  {
   "cell_type": "code",
   "execution_count": 4,
   "id": "6d2847cd",
   "metadata": {},
   "outputs": [],
   "source": [
    "G = nx.Graph()\n",
    "G.add_edges_from(edges)\n",
    "lam, compress_cov_matrix = compress_matrix(cov_matrix, G)"
   ]
  },
  {
   "cell_type": "markdown",
   "id": "b49bb186",
   "metadata": {},
   "source": [
    "## ----------"
   ]
  },
  {
   "cell_type": "code",
   "execution_count": 5,
   "id": "1ba351c2",
   "metadata": {},
   "outputs": [],
   "source": [
    "# Define the objective function to be optimized\n",
    "q = 0.5 \n",
    "B  = 2 \n",
    "lamb= 0\n",
    "depth = 10\n",
    "qc_initial_state = dicke_statevector(len(expected_value), B)\n",
    "qaoa = QAOA(expected_value, compress_cov_matrix, q, B, lamb, qc=qc_initial_state, \n",
    "                mixture_layer='ring_mixer', edges_hc=edges, edges_hb=edges)\n",
    "qaoa.count_qpu_call = 0\n",
    "def objective(params):\n",
    "    gamma = params[:depth]\n",
    "    beta = params[depth:]\n",
    "    for i in range(depth):\n",
    "        qaoa.add_layer(gamma[i], beta[i])\n",
    "\n",
    "    energy = qaoa.measure_energy()\n",
    "    qaoa.count_qpu_call += 1\n",
    "    qaoa.restart()\n",
    "    return energy\n",
    "\n",
    "# Specify the initial parameters for optimization.\n",
    "vec_gamma = []\n",
    "vec_beta = []\n",
    "initial_params = []\n",
    "for _ in range(depth):\n",
    "    gamma = np.random.uniform(0, 2*np.pi)\n",
    "    beta = np.random.uniform(0, 2*np.pi)\n",
    "    vec_gamma.append(gamma)\n",
    "    vec_beta.append(beta)\n",
    "    initial_params.append(gamma)\n",
    "    initial_params.append(beta)"
   ]
  },
  {
   "cell_type": "code",
   "execution_count": 6,
   "id": "6fa10b68",
   "metadata": {},
   "outputs": [],
   "source": [
    "result = minimize(objective, initial_params, method='COBYLA')\n",
    "\n",
    "gamma = result.x[:depth]\n",
    "beta = result.x[depth:]"
   ]
  },
  {
   "cell_type": "code",
   "execution_count": 7,
   "id": "7b0ad8c2",
   "metadata": {},
   "outputs": [
    {
     "data": {
      "text/plain": [
       "-0.31418776042611385"
      ]
     },
     "execution_count": 7,
     "metadata": {},
     "output_type": "execute_result"
    }
   ],
   "source": [
    "# Generate the optimal circuit.\n",
    "qaoa.restart()\n",
    "for i in range(depth):\n",
    "    qaoa.add_layer(gamma[i], beta[i])\n",
    "    \n",
    "energy = qaoa.measure_energy()\n",
    "count = qaoa.get_counts()\n",
    "energy"
   ]
  },
  {
   "cell_type": "code",
   "execution_count": 8,
   "id": "f7d04575",
   "metadata": {},
   "outputs": [
    {
     "data": {
      "image/png": "[encoded data removed]",
      "text/plain": [
       "<Figure size 640x480 with 1 Axes>"
      ]
     },
     "metadata": {},
     "output_type": "display_data"
    }
   ],
   "source": [
    "plot_histogram(count, number_to_keep=4)\n",
    "plt.show()"
   ]
  },
  {
   "cell_type": "code",
   "execution_count": 9,
   "id": "9f8996e0",
   "metadata": {},
   "outputs": [
    {
     "data": {
      "text/plain": [
       "288"
      ]
     },
     "execution_count": 9,
     "metadata": {},
     "output_type": "execute_result"
    }
   ],
   "source": [
    "qaoa.count_qpu_call"
   ]
  },
  {
   "cell_type": "code",
   "execution_count": null,
   "id": "b74aca7a",
   "metadata": {},
   "outputs": [],
   "source": []
  }
 ],
 "metadata": {
  "kernelspec": {
   "display_name": "Python 3 (ipykernel)",
   "language": "python",
   "name": "python3"
  },
  "language_info": {
   "codemirror_mode": {
    "name": "ipython",
    "version": 3
   },
   "file_extension": ".py",
   "mimetype": "text/x-python",
   "name": "python",
   "nbconvert_exporter": "python",
   "pygments_lexer": "ipython3",
   "version": "3.10.18"
  }
 },
 "nbformat": 4,
 "nbformat_minor": 5
}
